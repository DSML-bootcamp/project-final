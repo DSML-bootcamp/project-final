{
 "cells": [
  {
   "cell_type": "code",
   "execution_count": 1,
   "metadata": {},
   "outputs": [],
   "source": [
    "import pandas as pd\n",
    "import tensorflow as tf\n",
    "from sklearn.model_selection import train_test_split\n",
    "from transformers import DistilBertTokenizerFast\n",
    "from transformers import TFDistilBertForSequenceClassification\n",
    "import os\n",
    "from huggingface_hub import hf_hub_download"
   ]
  },
  {
   "cell_type": "code",
   "execution_count": null,
   "metadata": {},
   "outputs": [],
   "source": [
    "REPO_ID = \"difraud/difraud\"\n",
    "folders = [\"fake_news\", \"job_scams\", \"phishing\", \"political_statements\", \"product_reviews\", \"sms\", \"twitter_rumours\"]"
   ]
  },
  {
   "cell_type": "code",
   "execution_count": null,
   "metadata": {},
   "outputs": [],
   "source": [
    "models = {}\n",
    "for folder in folders:\n",
    "    models[folder] = pickle.load(open(f'{folder}.model', 'rb'))\n",
    "\n",
    "def predict_ensemble(text):\n",
    "\n",
    "    encoded_text = tokenizer(text, return_tensors='pt')\n",
    "\n",
    "\n",
    "    predictions = []\n",
    "    for model in models.values():\n",
    "        model.to('cuda')\n",
    "        output = model(**encoded_text)\n",
    "        predictions.append(output.logits)\n",
    "\n",
    "    ensemble_prediction = torch.mean(torch.stack(predictions), dim=0)\n",
    "\n",
    "    predicted_label = torch.argmax(ensemble_prediction).item()\n",
    "\n",
    "    return predicted_label\n"
   ]
  }
 ],
 "metadata": {
  "kernelspec": {
   "display_name": "Python 3",
   "language": "python",
   "name": "python3"
  },
  "language_info": {
   "codemirror_mode": {
    "name": "ipython",
    "version": 3
   },
   "file_extension": ".py",
   "mimetype": "text/x-python",
   "name": "python",
   "nbconvert_exporter": "python",
   "pygments_lexer": "ipython3",
   "version": "3.12.3"
  }
 },
 "nbformat": 4,
 "nbformat_minor": 2
}
